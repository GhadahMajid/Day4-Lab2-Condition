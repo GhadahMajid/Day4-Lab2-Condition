{
 "cells": [
  {
   "cell_type": "markdown",
   "id": "64d353c0",
   "metadata": {},
   "source": [
    "# Day4-Lab2-Condition\n",
    "> **Ghadah Alabduljabbar**"
   ]
  },
  {
   "cell_type": "markdown",
   "id": "5bece193",
   "metadata": {},
   "source": [
    "You want to recommend a movie to a friend based on the rating and popularity. To accomplish this do the following:\n",
    "- Create a variable for the movie (choose any movie you like)."
   ]
  },
  {
   "cell_type": "code",
   "execution_count": 1,
   "id": "66d99053",
   "metadata": {},
   "outputs": [
    {
     "data": {
      "text/plain": [
       "'Top Gun'"
      ]
     },
     "execution_count": 1,
     "metadata": {},
     "output_type": "execute_result"
    }
   ],
   "source": [
    "Movie = \"Top Gun\"\n",
    "Movie"
   ]
  },
  {
   "cell_type": "markdown",
   "id": "99259bb7",
   "metadata": {},
   "source": [
    "- Create a variable of type int to hold the rating of the movie out of 5. Give this movie rate = 3"
   ]
  },
  {
   "cell_type": "code",
   "execution_count": 2,
   "id": "f5d9e5c8",
   "metadata": {},
   "outputs": [
    {
     "data": {
      "text/plain": [
       "3"
      ]
     },
     "execution_count": 2,
     "metadata": {},
     "output_type": "execute_result"
    }
   ],
   "source": [
    "Rating = 3\n",
    "Rating"
   ]
  },
  {
   "cell_type": "markdown",
   "id": "950e260c",
   "metadata": {},
   "source": [
    "- Create a popularity score of type float, let it be 72.65"
   ]
  },
  {
   "cell_type": "code",
   "execution_count": 3,
   "id": "a76fd74d",
   "metadata": {},
   "outputs": [
    {
     "data": {
      "text/plain": [
       "72.65"
      ]
     },
     "execution_count": 3,
     "metadata": {},
     "output_type": "execute_result"
    }
   ],
   "source": [
    "PScore = 72.65\n",
    "PScore"
   ]
  },
  {
   "cell_type": "markdown",
   "id": "96b28c3f",
   "metadata": {},
   "source": [
    "- Using an if statement:\n",
    "  - Check if the movie rating is 4 or greater and the popularity is greater than 80, print \"Highly recommended\".\n",
    "  - Else if the movie rating is 3 or greater and the popularity is greater than 70, print \"I recommended it, It is good\".\n",
    "  - Else if the movie rating is 2 or less and the popularity is greater than 60, print \"You should check it out!\".\n",
    "  - Else the movie rating is 2 or less and the popularity is less than 50, print \"Don't watch it, It is a waste of time\"."
   ]
  },
  {
   "cell_type": "code",
   "execution_count": 4,
   "id": "c1ece0bc",
   "metadata": {},
   "outputs": [
    {
     "name": "stdout",
     "output_type": "stream",
     "text": [
      "I recommended it, It is good\n"
     ]
    }
   ],
   "source": [
    "if Rating >= 4 and PScore > 80:\n",
    "    print(\"Highly recommended\")\n",
    "elif Rating >= 3 and PScore > 70:\n",
    "    print(\"I recommended it, It is good\")\n",
    "elif Rating <= 2 and PScore > 60:\n",
    "    print(\"You should check it out!\")\n",
    "else:\n",
    "    print(\"Don't watch it, It is a waste of time\")"
   ]
  }
 ],
 "metadata": {
  "kernelspec": {
   "display_name": "Python 3 (ipykernel)",
   "language": "python",
   "name": "python3"
  },
  "language_info": {
   "codemirror_mode": {
    "name": "ipython",
    "version": 3
   },
   "file_extension": ".py",
   "mimetype": "text/x-python",
   "name": "python",
   "nbconvert_exporter": "python",
   "pygments_lexer": "ipython3",
   "version": "3.9.7"
  }
 },
 "nbformat": 4,
 "nbformat_minor": 5
}
